{
 "cells": [
  {
   "cell_type": "code",
   "execution_count": 8,
   "id": "c9725fdf",
   "metadata": {},
   "outputs": [
    {
     "name": "stdout",
     "output_type": "stream",
     "text": [
      "Requirement already satisfied: evaluate in ./anaconda3/lib/python3.11/site-packages (0.4.1)\n",
      "Requirement already satisfied: datasets>=2.0.0 in ./anaconda3/lib/python3.11/site-packages (from evaluate) (2.12.0)\n",
      "Requirement already satisfied: numpy>=1.17 in ./anaconda3/lib/python3.11/site-packages (from evaluate) (1.24.3)\n",
      "Requirement already satisfied: dill in ./anaconda3/lib/python3.11/site-packages (from evaluate) (0.3.6)\n",
      "Requirement already satisfied: pandas in ./anaconda3/lib/python3.11/site-packages (from evaluate) (1.5.3)\n",
      "Requirement already satisfied: requests>=2.19.0 in ./anaconda3/lib/python3.11/site-packages (from evaluate) (2.31.0)\n",
      "Requirement already satisfied: tqdm>=4.62.1 in ./anaconda3/lib/python3.11/site-packages (from evaluate) (4.65.0)\n",
      "Requirement already satisfied: xxhash in ./anaconda3/lib/python3.11/site-packages (from evaluate) (2.0.2)\n",
      "Requirement already satisfied: multiprocess in ./anaconda3/lib/python3.11/site-packages (from evaluate) (0.70.14)\n",
      "Requirement already satisfied: fsspec[http]>=2021.05.0 in ./anaconda3/lib/python3.11/site-packages (from evaluate) (2023.4.0)\n",
      "Requirement already satisfied: huggingface-hub>=0.7.0 in ./anaconda3/lib/python3.11/site-packages (from evaluate) (0.15.1)\n",
      "Requirement already satisfied: packaging in ./anaconda3/lib/python3.11/site-packages (from evaluate) (23.0)\n",
      "Requirement already satisfied: responses<0.19 in ./anaconda3/lib/python3.11/site-packages (from evaluate) (0.13.3)\n",
      "Requirement already satisfied: pyarrow>=8.0.0 in ./anaconda3/lib/python3.11/site-packages (from datasets>=2.0.0->evaluate) (11.0.0)\n",
      "Requirement already satisfied: aiohttp in ./anaconda3/lib/python3.11/site-packages (from datasets>=2.0.0->evaluate) (3.8.3)\n",
      "Requirement already satisfied: pyyaml>=5.1 in ./anaconda3/lib/python3.11/site-packages (from datasets>=2.0.0->evaluate) (6.0)\n",
      "Requirement already satisfied: filelock in ./anaconda3/lib/python3.11/site-packages (from huggingface-hub>=0.7.0->evaluate) (3.9.0)\n",
      "Requirement already satisfied: typing-extensions>=3.7.4.3 in ./anaconda3/lib/python3.11/site-packages (from huggingface-hub>=0.7.0->evaluate) (4.7.1)\n",
      "Requirement already satisfied: charset-normalizer<4,>=2 in ./anaconda3/lib/python3.11/site-packages (from requests>=2.19.0->evaluate) (2.0.4)\n",
      "Requirement already satisfied: idna<4,>=2.5 in ./anaconda3/lib/python3.11/site-packages (from requests>=2.19.0->evaluate) (3.4)\n",
      "Requirement already satisfied: urllib3<3,>=1.21.1 in ./anaconda3/lib/python3.11/site-packages (from requests>=2.19.0->evaluate) (1.26.16)\n",
      "Requirement already satisfied: certifi>=2017.4.17 in ./anaconda3/lib/python3.11/site-packages (from requests>=2.19.0->evaluate) (2023.7.22)\n",
      "Requirement already satisfied: six in ./anaconda3/lib/python3.11/site-packages (from responses<0.19->evaluate) (1.16.0)\n",
      "Requirement already satisfied: python-dateutil>=2.8.1 in ./anaconda3/lib/python3.11/site-packages (from pandas->evaluate) (2.8.2)\n",
      "Requirement already satisfied: pytz>=2020.1 in ./anaconda3/lib/python3.11/site-packages (from pandas->evaluate) (2022.7)\n",
      "Requirement already satisfied: attrs>=17.3.0 in ./anaconda3/lib/python3.11/site-packages (from aiohttp->datasets>=2.0.0->evaluate) (22.1.0)\n",
      "Requirement already satisfied: multidict<7.0,>=4.5 in ./anaconda3/lib/python3.11/site-packages (from aiohttp->datasets>=2.0.0->evaluate) (6.0.2)\n",
      "Requirement already satisfied: async-timeout<5.0,>=4.0.0a3 in ./anaconda3/lib/python3.11/site-packages (from aiohttp->datasets>=2.0.0->evaluate) (4.0.2)\n",
      "Requirement already satisfied: yarl<2.0,>=1.0 in ./anaconda3/lib/python3.11/site-packages (from aiohttp->datasets>=2.0.0->evaluate) (1.8.1)\n",
      "Requirement already satisfied: frozenlist>=1.1.1 in ./anaconda3/lib/python3.11/site-packages (from aiohttp->datasets>=2.0.0->evaluate) (1.3.3)\n",
      "Requirement already satisfied: aiosignal>=1.1.2 in ./anaconda3/lib/python3.11/site-packages (from aiohttp->datasets>=2.0.0->evaluate) (1.2.0)\n",
      "Collecting rouge_score\n",
      "  Downloading rouge_score-0.1.2.tar.gz (17 kB)\n",
      "  Preparing metadata (setup.py) ... \u001b[?25ldone\n",
      "\u001b[?25hCollecting absl-py (from rouge_score)\n",
      "  Obtaining dependency information for absl-py from https://files.pythonhosted.org/packages/01/e4/dc0a1dcc4e74e08d7abedab278c795eef54a224363bb18f5692f416d834f/absl_py-2.0.0-py3-none-any.whl.metadata\n",
      "  Downloading absl_py-2.0.0-py3-none-any.whl.metadata (2.3 kB)\n",
      "Requirement already satisfied: nltk in ./anaconda3/lib/python3.11/site-packages (from rouge_score) (3.8.1)\n",
      "Requirement already satisfied: numpy in ./anaconda3/lib/python3.11/site-packages (from rouge_score) (1.24.3)\n",
      "Requirement already satisfied: six>=1.14.0 in ./anaconda3/lib/python3.11/site-packages (from rouge_score) (1.16.0)\n",
      "Requirement already satisfied: click in ./anaconda3/lib/python3.11/site-packages (from nltk->rouge_score) (8.0.4)\n",
      "Requirement already satisfied: joblib in ./anaconda3/lib/python3.11/site-packages (from nltk->rouge_score) (1.2.0)\n",
      "Requirement already satisfied: regex>=2021.8.3 in ./anaconda3/lib/python3.11/site-packages (from nltk->rouge_score) (2022.7.9)\n",
      "Requirement already satisfied: tqdm in ./anaconda3/lib/python3.11/site-packages (from nltk->rouge_score) (4.65.0)\n",
      "Downloading absl_py-2.0.0-py3-none-any.whl (130 kB)\n",
      "\u001b[2K   \u001b[90m━━━━━━━━━━━━━━━━━━━━━━━━━━━━━━━━━━━━━━━━\u001b[0m \u001b[32m130.2/130.2 kB\u001b[0m \u001b[31m2.3 MB/s\u001b[0m eta \u001b[36m0:00:00\u001b[0m \u001b[36m0:00:01\u001b[0m\n",
      "\u001b[?25hBuilding wheels for collected packages: rouge_score\n",
      "  Building wheel for rouge_score (setup.py) ... \u001b[?25ldone\n",
      "\u001b[?25h  Created wheel for rouge_score: filename=rouge_score-0.1.2-py3-none-any.whl size=24935 sha256=6142bcbfd0953eb16f31ea79130ab05b24c1f13aa2ea1abbc9b941484f682eb5\n",
      "  Stored in directory: /Users/abhignaragala/Library/Caches/pip/wheels/1e/19/43/8a442dc83660ca25e163e1bd1f89919284ab0d0c1475475148\n",
      "Successfully built rouge_score\n",
      "Installing collected packages: absl-py, rouge_score\n",
      "Successfully installed absl-py-2.0.0 rouge_score-0.1.2\n",
      "Requirement already satisfied: Bert_score in ./anaconda3/lib/python3.11/site-packages (0.3.13)\n",
      "Requirement already satisfied: torch>=1.0.0 in ./anaconda3/lib/python3.11/site-packages (from Bert_score) (2.0.1)\n",
      "Requirement already satisfied: pandas>=1.0.1 in ./anaconda3/lib/python3.11/site-packages (from Bert_score) (1.5.3)\n",
      "Requirement already satisfied: transformers>=3.0.0 in ./anaconda3/lib/python3.11/site-packages (from Bert_score) (4.29.2)\n",
      "Requirement already satisfied: numpy in ./anaconda3/lib/python3.11/site-packages (from Bert_score) (1.24.3)\n",
      "Requirement already satisfied: requests in ./anaconda3/lib/python3.11/site-packages (from Bert_score) (2.31.0)\n",
      "Requirement already satisfied: tqdm>=4.31.1 in ./anaconda3/lib/python3.11/site-packages (from Bert_score) (4.65.0)\n",
      "Requirement already satisfied: matplotlib in ./anaconda3/lib/python3.11/site-packages (from Bert_score) (3.7.1)\n",
      "Requirement already satisfied: packaging>=20.9 in ./anaconda3/lib/python3.11/site-packages (from Bert_score) (23.0)\n",
      "Requirement already satisfied: python-dateutil>=2.8.1 in ./anaconda3/lib/python3.11/site-packages (from pandas>=1.0.1->Bert_score) (2.8.2)\n",
      "Requirement already satisfied: pytz>=2020.1 in ./anaconda3/lib/python3.11/site-packages (from pandas>=1.0.1->Bert_score) (2022.7)\n",
      "Requirement already satisfied: filelock in ./anaconda3/lib/python3.11/site-packages (from torch>=1.0.0->Bert_score) (3.9.0)\n",
      "Requirement already satisfied: typing-extensions in ./anaconda3/lib/python3.11/site-packages (from torch>=1.0.0->Bert_score) (4.7.1)\n",
      "Requirement already satisfied: sympy in ./anaconda3/lib/python3.11/site-packages (from torch>=1.0.0->Bert_score) (1.11.1)\n",
      "Requirement already satisfied: networkx in ./anaconda3/lib/python3.11/site-packages (from torch>=1.0.0->Bert_score) (3.1)\n",
      "Requirement already satisfied: jinja2 in ./anaconda3/lib/python3.11/site-packages (from torch>=1.0.0->Bert_score) (3.1.2)\n",
      "Requirement already satisfied: huggingface-hub<1.0,>=0.14.1 in ./anaconda3/lib/python3.11/site-packages (from transformers>=3.0.0->Bert_score) (0.15.1)\n",
      "Requirement already satisfied: pyyaml>=5.1 in ./anaconda3/lib/python3.11/site-packages (from transformers>=3.0.0->Bert_score) (6.0)\n",
      "Requirement already satisfied: regex!=2019.12.17 in ./anaconda3/lib/python3.11/site-packages (from transformers>=3.0.0->Bert_score) (2022.7.9)\n",
      "Requirement already satisfied: tokenizers!=0.11.3,<0.14,>=0.11.1 in ./anaconda3/lib/python3.11/site-packages (from transformers>=3.0.0->Bert_score) (0.13.2)\n",
      "Requirement already satisfied: contourpy>=1.0.1 in ./anaconda3/lib/python3.11/site-packages (from matplotlib->Bert_score) (1.0.5)\n",
      "Requirement already satisfied: cycler>=0.10 in ./anaconda3/lib/python3.11/site-packages (from matplotlib->Bert_score) (0.11.0)\n",
      "Requirement already satisfied: fonttools>=4.22.0 in ./anaconda3/lib/python3.11/site-packages (from matplotlib->Bert_score) (4.25.0)\n",
      "Requirement already satisfied: kiwisolver>=1.0.1 in ./anaconda3/lib/python3.11/site-packages (from matplotlib->Bert_score) (1.4.4)\n",
      "Requirement already satisfied: pillow>=6.2.0 in ./anaconda3/lib/python3.11/site-packages (from matplotlib->Bert_score) (9.4.0)\n",
      "Requirement already satisfied: pyparsing>=2.3.1 in ./anaconda3/lib/python3.11/site-packages (from matplotlib->Bert_score) (3.0.9)\n",
      "Requirement already satisfied: charset-normalizer<4,>=2 in ./anaconda3/lib/python3.11/site-packages (from requests->Bert_score) (2.0.4)\n",
      "Requirement already satisfied: idna<4,>=2.5 in ./anaconda3/lib/python3.11/site-packages (from requests->Bert_score) (3.4)\n",
      "Requirement already satisfied: urllib3<3,>=1.21.1 in ./anaconda3/lib/python3.11/site-packages (from requests->Bert_score) (1.26.16)\n",
      "Requirement already satisfied: certifi>=2017.4.17 in ./anaconda3/lib/python3.11/site-packages (from requests->Bert_score) (2023.7.22)\n",
      "Requirement already satisfied: fsspec in ./anaconda3/lib/python3.11/site-packages (from huggingface-hub<1.0,>=0.14.1->transformers>=3.0.0->Bert_score) (2023.4.0)\n",
      "Requirement already satisfied: six>=1.5 in ./anaconda3/lib/python3.11/site-packages (from python-dateutil>=2.8.1->pandas>=1.0.1->Bert_score) (1.16.0)\n",
      "Requirement already satisfied: MarkupSafe>=2.0 in ./anaconda3/lib/python3.11/site-packages (from jinja2->torch>=1.0.0->Bert_score) (2.1.1)\n",
      "Requirement already satisfied: mpmath>=0.19 in ./anaconda3/lib/python3.11/site-packages (from sympy->torch>=1.0.0->Bert_score) (1.3.0)\n"
     ]
    }
   ],
   "source": [
    "! pip install evaluate\n",
    "!pip install rouge_score  \n",
    "! pip install Bert_score"
   ]
  },
  {
   "cell_type": "code",
   "execution_count": 9,
   "id": "2a89da72",
   "metadata": {},
   "outputs": [
    {
     "name": "stdout",
     "output_type": "stream",
     "text": [
      "ROUGE Scores:\n",
      "ROUGE-1: 0.3680666846515993\n",
      "ROUGE-2: 0.16418500665533092\n",
      "ROUGE-L: 0.23349828360409808\n",
      "ROUGE-Lsum: 0.2331992695246869\n"
     ]
    }
   ],
   "source": [
    "import pandas as pd\n",
    "from evaluate import load\n",
    "\n",
    "# Load the ROUGE score model\n",
    "rouge = load('rouge')\n",
    "\n",
    "# Read data from CSV file\n",
    "df = pd.read_csv(\"final.csv\")\n",
    "\n",
    "# Extract actual and predicted values from the DataFrame\n",
    "predictions = df[\"Predicted\"].tolist()\n",
    "references = df[\"Actual\"].tolist()\n",
    "\n",
    "# Compute ROUGE scores for each pair of actual and predicted values\n",
    "results = rouge.compute(predictions=predictions, references=references)\n",
    "\n",
    "# Save the ROUGE scores to a new CSV file\n",
    "output_df = pd.DataFrame({\"Actual\": references, \"Predicted\": predictions, \"ROUGE-1\": results['rouge1'], \"ROUGE-2\": results['rouge2'], \"ROUGE-L\": results['rougeL'], \"ROUGE-Lsum\": results['rougeLsum']})\n",
    "\n",
    "output_df.to_csv(\"rouge_scores_output.csv\", index=False)\n",
    "\n",
    "# Print the ROUGE scores\n",
    "print(\"ROUGE Scores:\")\n",
    "print(\"ROUGE-1:\", results['rouge1'])\n",
    "print(\"ROUGE-2:\", results['rouge2'])\n",
    "print(\"ROUGE-L:\", results['rougeL'])\n",
    "print(\"ROUGE-Lsum:\", results['rougeLsum'])"
   ]
  },
  {
   "cell_type": "code",
   "execution_count": 13,
   "id": "82b38018",
   "metadata": {},
   "outputs": [
    {
     "data": {
      "application/vnd.jupyter.widget-view+json": {
       "model_id": "88b181045fb640cf97ec86d4b0cac5d4",
       "version_major": 2,
       "version_minor": 0
      },
      "text/plain": [
       "Downloading pytorch_model.bin:   0%|          | 0.00/268M [00:00<?, ?B/s]"
      ]
     },
     "metadata": {},
     "output_type": "display_data"
    },
    {
     "name": "stdout",
     "output_type": "stream",
     "text": [
      "Final Cumulative BERT Scores:\n",
      "Precision: 0.7835351845726894\n",
      "Recall: 0.8427686490605225\n",
      "F1 Score: 0.8117149169720597\n"
     ]
    }
   ],
   "source": [
    "import pandas as pd\n",
    "from evaluate import load\n",
    "\n",
    "# Load the BERT score model\n",
    "bertscore = load(\"bertscore\")\n",
    "\n",
    "# Read data from CSV file\n",
    "df = pd.read_csv(\"final.csv\")\n",
    "\n",
    "# Extract actual and predicted values from the DataFrame\n",
    "predictions = df[\"Predicted\"].tolist()\n",
    "references = df[\"Actual\"].tolist()\n",
    "\n",
    "# Compute BERT scores for each pair of actual and predicted values\n",
    "results = bertscore.compute(predictions=predictions, references=references, model_type=\"distilbert-base-uncased\")\n",
    "\n",
    "# Extract individual BERT scores (precision, recall, F1) for each pair\n",
    "precision = results[\"precision\"]\n",
    "recall = results[\"recall\"]\n",
    "f1 = results[\"f1\"]\n",
    "\n",
    "# Create a new DataFrame to store the BERT scores\n",
    "output_df = pd.DataFrame({\"Actual\": references, \"Predicted\": predictions, \"Precision\": precision, \"Recall\": recall, \"F1\": f1})\n",
    "\n",
    "# Save the BERT scores to a new CSV file\n",
    "output_df.to_csv(\"bert_scores_output.csv\", index=False)\n",
    "\n",
    "# Calculate the final cumulative BERT scores\n",
    "final_precision = sum(precision) / len(precision)\n",
    "final_recall = sum(recall) / len(recall)\n",
    "final_f1 = sum(f1) / len(f1)\n",
    "\n",
    "# Print the final cumulative BERT scores\n",
    "print(\"Final Cumulative BERT Scores:\")\n",
    "print(\"Precision:\", final_precision)\n",
    "print(\"Recall:\", final_recall)\n",
    "print(\"F1 Score:\", final_f1)"
   ]
  },
  {
   "cell_type": "code",
   "execution_count": 12,
   "id": "a8dbd70b",
   "metadata": {},
   "outputs": [
    {
     "name": "stdout",
     "output_type": "stream",
     "text": [
      "Average BLEU Score: 0.29347809689525894\n"
     ]
    }
   ],
   "source": [
    "import pandas as pd\n",
    "from evaluate import load\n",
    "from nltk.translate.bleu_score import sentence_bleu\n",
    "\n",
    "# Load BLEU score function from NLTK\n",
    "def compute_bleu_score(prediction, references):\n",
    "    return sentence_bleu(references, prediction)\n",
    "\n",
    "# Read data from CSV file\n",
    "df = pd.read_csv(\"final.csv\")\n",
    "\n",
    "# Extract actual and predicted values from the DataFrame\n",
    "predictions = df[\"Predicted\"].tolist()\n",
    "references_list = df[\"Actual\"].apply(lambda x: [reference.strip() for reference in x.split(',')]).tolist()\n",
    "\n",
    "# Compute BLEU scores for each pair of actual and predicted values\n",
    "bleu_scores = [compute_bleu_score(prediction, references) for prediction, references in zip(predictions, references_list)]\n",
    "\n",
    "# Create a new DataFrame to store the BLEU scores\n",
    "output_df = pd.DataFrame({\"Actual\": df[\"Actual\"], \"Predicted\": predictions, \"BLEU Score\": bleu_scores})\n",
    "\n",
    "# Save the BLEU scores to a new CSV file\n",
    "output_df.to_csv(\"bleu_scores_output.csv\", index=False)\n",
    "\n",
    "# Calculate the average BLEU score\n",
    "average_bleu_score = sum(bleu_scores) / len(bleu_scores)\n",
    "\n",
    "# Print the average BLEU score\n",
    "print(\"Average BLEU Score:\", average_bleu_score)"
   ]
  },
  {
   "cell_type": "code",
   "execution_count": null,
   "id": "aae6b4fc",
   "metadata": {},
   "outputs": [],
   "source": []
  }
 ],
 "metadata": {
  "kernelspec": {
   "display_name": "Python 3 (ipykernel)",
   "language": "python",
   "name": "python3"
  },
  "language_info": {
   "codemirror_mode": {
    "name": "ipython",
    "version": 3
   },
   "file_extension": ".py",
   "mimetype": "text/x-python",
   "name": "python",
   "nbconvert_exporter": "python",
   "pygments_lexer": "ipython3",
   "version": "3.11.4"
  }
 },
 "nbformat": 4,
 "nbformat_minor": 5
}
